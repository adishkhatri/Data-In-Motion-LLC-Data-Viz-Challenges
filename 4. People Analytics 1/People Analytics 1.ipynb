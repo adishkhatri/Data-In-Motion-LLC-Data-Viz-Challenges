{
 "cells": [
  {
   "cell_type": "code",
   "execution_count": 1,
   "id": "6d6401b8",
   "metadata": {},
   "outputs": [],
   "source": [
    "import pandas as pd"
   ]
  },
  {
   "cell_type": "code",
   "execution_count": 2,
   "id": "b1a2913f",
   "metadata": {},
   "outputs": [
    {
     "data": {
      "text/html": [
       "<div>\n",
       "<style scoped>\n",
       "    .dataframe tbody tr th:only-of-type {\n",
       "        vertical-align: middle;\n",
       "    }\n",
       "\n",
       "    .dataframe tbody tr th {\n",
       "        vertical-align: top;\n",
       "    }\n",
       "\n",
       "    .dataframe thead th {\n",
       "        text-align: right;\n",
       "    }\n",
       "</style>\n",
       "<table border=\"1\" class=\"dataframe\">\n",
       "  <thead>\n",
       "    <tr style=\"text-align: right;\">\n",
       "      <th></th>\n",
       "      <th>employee_id</th>\n",
       "      <th>department</th>\n",
       "      <th>sub-department</th>\n",
       "      <th>first_level_manager</th>\n",
       "      <th>second_level_manager</th>\n",
       "      <th>third_level_manager</th>\n",
       "      <th>fourth_level_manager</th>\n",
       "      <th>job_level</th>\n",
       "      <th>gender</th>\n",
       "      <th>sexual_orientation</th>\n",
       "      <th>...</th>\n",
       "      <th>location_city</th>\n",
       "      <th>marital_status</th>\n",
       "      <th>employment_status</th>\n",
       "      <th>salary</th>\n",
       "      <th>hire_date</th>\n",
       "      <th>term_date</th>\n",
       "      <th>tenure</th>\n",
       "      <th>term_type</th>\n",
       "      <th>term_reason</th>\n",
       "      <th>active_status</th>\n",
       "    </tr>\n",
       "  </thead>\n",
       "  <tbody>\n",
       "    <tr>\n",
       "      <th>0</th>\n",
       "      <td>5641543884</td>\n",
       "      <td>HR</td>\n",
       "      <td>Training</td>\n",
       "      <td>7.305454e+09</td>\n",
       "      <td>2.663916e+09</td>\n",
       "      <td>7.133405e+09</td>\n",
       "      <td>NaN</td>\n",
       "      <td>Individual Contributor</td>\n",
       "      <td>Female</td>\n",
       "      <td>Heterosexual</td>\n",
       "      <td>...</td>\n",
       "      <td>Los Angeles</td>\n",
       "      <td>Single</td>\n",
       "      <td>Full Time</td>\n",
       "      <td>51815</td>\n",
       "      <td>2018-12-17</td>\n",
       "      <td>NaN</td>\n",
       "      <td>49</td>\n",
       "      <td>NaN</td>\n",
       "      <td>NaN</td>\n",
       "      <td>1</td>\n",
       "    </tr>\n",
       "    <tr>\n",
       "      <th>1</th>\n",
       "      <td>1827262027</td>\n",
       "      <td>Software</td>\n",
       "      <td>Technical Support</td>\n",
       "      <td>3.520177e+09</td>\n",
       "      <td>1.383109e+09</td>\n",
       "      <td>4.520268e+09</td>\n",
       "      <td>NaN</td>\n",
       "      <td>Individual Contributor</td>\n",
       "      <td>Male</td>\n",
       "      <td>Heterosexual</td>\n",
       "      <td>...</td>\n",
       "      <td>Boston</td>\n",
       "      <td>Single</td>\n",
       "      <td>Full Time</td>\n",
       "      <td>81291</td>\n",
       "      <td>2016-10-14</td>\n",
       "      <td>NaN</td>\n",
       "      <td>76</td>\n",
       "      <td>NaN</td>\n",
       "      <td>NaN</td>\n",
       "      <td>1</td>\n",
       "    </tr>\n",
       "    <tr>\n",
       "      <th>2</th>\n",
       "      <td>8031094893</td>\n",
       "      <td>HR</td>\n",
       "      <td>Benefits</td>\n",
       "      <td>2.757247e+07</td>\n",
       "      <td>6.712864e+09</td>\n",
       "      <td>2.509047e+09</td>\n",
       "      <td>NaN</td>\n",
       "      <td>Individual Contributor</td>\n",
       "      <td>Female</td>\n",
       "      <td>Heterosexual</td>\n",
       "      <td>...</td>\n",
       "      <td>Dallas</td>\n",
       "      <td>Single</td>\n",
       "      <td>Full Time</td>\n",
       "      <td>80893</td>\n",
       "      <td>2017-08-15</td>\n",
       "      <td>NaN</td>\n",
       "      <td>66</td>\n",
       "      <td>NaN</td>\n",
       "      <td>NaN</td>\n",
       "      <td>1</td>\n",
       "    </tr>\n",
       "    <tr>\n",
       "      <th>3</th>\n",
       "      <td>8578520737</td>\n",
       "      <td>HR</td>\n",
       "      <td>Training</td>\n",
       "      <td>8.648367e+09</td>\n",
       "      <td>7.040763e+09</td>\n",
       "      <td>NaN</td>\n",
       "      <td>NaN</td>\n",
       "      <td>Team Lead</td>\n",
       "      <td>Male</td>\n",
       "      <td>Heterosexual</td>\n",
       "      <td>...</td>\n",
       "      <td>Denver</td>\n",
       "      <td>Married</td>\n",
       "      <td>Full Time</td>\n",
       "      <td>74519</td>\n",
       "      <td>2020-07-07</td>\n",
       "      <td>NaN</td>\n",
       "      <td>30</td>\n",
       "      <td>NaN</td>\n",
       "      <td>NaN</td>\n",
       "      <td>1</td>\n",
       "    </tr>\n",
       "    <tr>\n",
       "      <th>4</th>\n",
       "      <td>7581210340</td>\n",
       "      <td>HR</td>\n",
       "      <td>Recruiting</td>\n",
       "      <td>2.609320e+08</td>\n",
       "      <td>5.662655e+09</td>\n",
       "      <td>6.032514e+09</td>\n",
       "      <td>NaN</td>\n",
       "      <td>Individual Contributor</td>\n",
       "      <td>Female</td>\n",
       "      <td>Heterosexual</td>\n",
       "      <td>...</td>\n",
       "      <td>Charlotte</td>\n",
       "      <td>Single</td>\n",
       "      <td>Full Time</td>\n",
       "      <td>54835</td>\n",
       "      <td>2017-10-28</td>\n",
       "      <td>NaN</td>\n",
       "      <td>63</td>\n",
       "      <td>NaN</td>\n",
       "      <td>NaN</td>\n",
       "      <td>1</td>\n",
       "    </tr>\n",
       "  </tbody>\n",
       "</table>\n",
       "<p>5 rows × 24 columns</p>\n",
       "</div>"
      ],
      "text/plain": [
       "   employee_id department     sub-department  first_level_manager  \\\n",
       "0   5641543884         HR           Training         7.305454e+09   \n",
       "1   1827262027   Software  Technical Support         3.520177e+09   \n",
       "2   8031094893         HR           Benefits         2.757247e+07   \n",
       "3   8578520737         HR           Training         8.648367e+09   \n",
       "4   7581210340         HR         Recruiting         2.609320e+08   \n",
       "\n",
       "   second_level_manager  third_level_manager  fourth_level_manager  \\\n",
       "0          2.663916e+09         7.133405e+09                   NaN   \n",
       "1          1.383109e+09         4.520268e+09                   NaN   \n",
       "2          6.712864e+09         2.509047e+09                   NaN   \n",
       "3          7.040763e+09                  NaN                   NaN   \n",
       "4          5.662655e+09         6.032514e+09                   NaN   \n",
       "\n",
       "                job_level  gender sexual_orientation  ... location_city  \\\n",
       "0  Individual Contributor  Female       Heterosexual  ...   Los Angeles   \n",
       "1  Individual Contributor    Male       Heterosexual  ...        Boston   \n",
       "2  Individual Contributor  Female       Heterosexual  ...        Dallas   \n",
       "3               Team Lead    Male       Heterosexual  ...        Denver   \n",
       "4  Individual Contributor  Female       Heterosexual  ...     Charlotte   \n",
       "\n",
       "   marital_status employment_status salary   hire_date term_date tenure  \\\n",
       "0          Single         Full Time  51815  2018-12-17       NaN     49   \n",
       "1          Single         Full Time  81291  2016-10-14       NaN     76   \n",
       "2          Single         Full Time  80893  2017-08-15       NaN     66   \n",
       "3         Married         Full Time  74519  2020-07-07       NaN     30   \n",
       "4          Single         Full Time  54835  2017-10-28       NaN     63   \n",
       "\n",
       "   term_type term_reason active_status  \n",
       "0        NaN         NaN             1  \n",
       "1        NaN         NaN             1  \n",
       "2        NaN         NaN             1  \n",
       "3        NaN         NaN             1  \n",
       "4        NaN         NaN             1  \n",
       "\n",
       "[5 rows x 24 columns]"
      ]
     },
     "execution_count": 2,
     "metadata": {},
     "output_type": "execute_result"
    }
   ],
   "source": [
    "df= pd.read_csv(\"people_analytics_start - people_analytics_start.csv\")\n",
    "df.head()"
   ]
  },
  {
   "cell_type": "code",
   "execution_count": 7,
   "id": "6aff0d0c",
   "metadata": {},
   "outputs": [
    {
     "data": {
      "text/plain": [
       "array(['Heterosexual', 'Other', 'Gay', 'Lesbian', 'Bisexual'],\n",
       "      dtype=object)"
      ]
     },
     "execution_count": 7,
     "metadata": {},
     "output_type": "execute_result"
    }
   ],
   "source": [
    "df['sexual_orientation'].unique()"
   ]
  },
  {
   "cell_type": "code",
   "execution_count": 8,
   "id": "84608583",
   "metadata": {},
   "outputs": [
    {
     "data": {
      "text/plain": [
       "employee_id                0\n",
       "department                 0\n",
       "sub-department             0\n",
       "first_level_manager      125\n",
       "second_level_manager     571\n",
       "third_level_manager     1324\n",
       "fourth_level_manager    4831\n",
       "job_level                  0\n",
       "gender                     0\n",
       "sexual_orientation         0\n",
       "race                       0\n",
       "age                        0\n",
       "education                  0\n",
       "location                   0\n",
       "location_city              0\n",
       "marital_status             0\n",
       "employment_status          0\n",
       "salary                     0\n",
       "hire_date                  0\n",
       "term_date               3980\n",
       "tenure                     0\n",
       "term_type               3980\n",
       "term_reason             3980\n",
       "active_status              0\n",
       "dtype: int64"
      ]
     },
     "execution_count": 8,
     "metadata": {},
     "output_type": "execute_result"
    }
   ],
   "source": [
    "df.isnull().sum()"
   ]
  },
  {
   "cell_type": "code",
   "execution_count": 9,
   "id": "eaabc10a",
   "metadata": {},
   "outputs": [
    {
     "data": {
      "text/plain": [
       "array([nan, 'Found a better opportunity', 'Career change', 'Performance',\n",
       "       'Better salary', 'More flexible benefits', 'Personal reasons',\n",
       "       'Termination for cause', 'Relocation', 'Company restructuring',\n",
       "       'Budget cuts'], dtype=object)"
      ]
     },
     "execution_count": 9,
     "metadata": {},
     "output_type": "execute_result"
    }
   ],
   "source": [
    "df['term_reason'].unique()"
   ]
  },
  {
   "cell_type": "code",
   "execution_count": 10,
   "id": "8f20784f",
   "metadata": {},
   "outputs": [
    {
     "data": {
      "text/plain": [
       "array([nan, 'Voluntary', 'Involuntary'], dtype=object)"
      ]
     },
     "execution_count": 10,
     "metadata": {},
     "output_type": "execute_result"
    }
   ],
   "source": [
    "df['term_type'].unique()"
   ]
  },
  {
   "cell_type": "code",
   "execution_count": 11,
   "id": "31700d86",
   "metadata": {},
   "outputs": [
    {
     "name": "stdout",
     "output_type": "stream",
     "text": [
      "<class 'pandas.core.frame.DataFrame'>\n",
      "RangeIndex: 4831 entries, 0 to 4830\n",
      "Data columns (total 24 columns):\n",
      " #   Column                Non-Null Count  Dtype  \n",
      "---  ------                --------------  -----  \n",
      " 0   employee_id           4831 non-null   int64  \n",
      " 1   department            4831 non-null   object \n",
      " 2   sub-department        4831 non-null   object \n",
      " 3   first_level_manager   4706 non-null   float64\n",
      " 4   second_level_manager  4260 non-null   float64\n",
      " 5   third_level_manager   3507 non-null   float64\n",
      " 6   fourth_level_manager  0 non-null      float64\n",
      " 7   job_level             4831 non-null   object \n",
      " 8   gender                4831 non-null   object \n",
      " 9   sexual_orientation    4831 non-null   object \n",
      " 10  race                  4831 non-null   object \n",
      " 11  age                   4831 non-null   int64  \n",
      " 12  education             4831 non-null   object \n",
      " 13  location              4831 non-null   object \n",
      " 14  location_city         4831 non-null   object \n",
      " 15  marital_status        4831 non-null   object \n",
      " 16  employment_status     4831 non-null   object \n",
      " 17  salary                4831 non-null   int64  \n",
      " 18  hire_date             4831 non-null   object \n",
      " 19  term_date             851 non-null    object \n",
      " 20  tenure                4831 non-null   int64  \n",
      " 21  term_type             851 non-null    object \n",
      " 22  term_reason           851 non-null    object \n",
      " 23  active_status         4831 non-null   int64  \n",
      "dtypes: float64(4), int64(5), object(15)\n",
      "memory usage: 905.9+ KB\n"
     ]
    }
   ],
   "source": [
    "df.info()"
   ]
  },
  {
   "cell_type": "code",
   "execution_count": 12,
   "id": "e4aca85f",
   "metadata": {},
   "outputs": [],
   "source": [
    "df['term_date']=pd.to_datetime(df['term_date'])\n",
    "df['hire_date']=pd.to_datetime(df['hire_date'])"
   ]
  },
  {
   "cell_type": "code",
   "execution_count": 13,
   "id": "af7813c5",
   "metadata": {},
   "outputs": [],
   "source": [
    "df.to_csv(\"People_Analytics_1_cleaned\",index=False)"
   ]
  },
  {
   "cell_type": "code",
   "execution_count": null,
   "id": "da1bb5ad",
   "metadata": {},
   "outputs": [],
   "source": []
  }
 ],
 "metadata": {
  "kernelspec": {
   "display_name": "Python 3 (ipykernel)",
   "language": "python",
   "name": "python3"
  },
  "language_info": {
   "codemirror_mode": {
    "name": "ipython",
    "version": 3
   },
   "file_extension": ".py",
   "mimetype": "text/x-python",
   "name": "python",
   "nbconvert_exporter": "python",
   "pygments_lexer": "ipython3",
   "version": "3.9.13"
  }
 },
 "nbformat": 4,
 "nbformat_minor": 5
}
